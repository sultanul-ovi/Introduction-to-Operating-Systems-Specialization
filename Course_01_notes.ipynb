{
 "cells": [
  {
   "cell_type": "code",
   "execution_count": null,
   "metadata": {
    "vscode": {
     "languageId": "bat"
    }
   },
   "outputs": [],
   "source": []
  },
  {
   "cell_type": "markdown",
   "metadata": {},
   "source": [
    "```c\n",
    "#include <stdio.h>\n",
    "#include <stdlib.h>\n",
    "#include <sys/time.h>\n",
    "#include <sys/stat.h>\n",
    "\n",
    "double getTime() {\n",
    "    struct timeval t;\n",
    "    gettimeofday(&t, NULL);\n",
    "    return (double) t.tv_sec + (double) t.tv_usec/1e6;\n",
    "}\n",
    "\n",
    "void wait(int howlong) {\n",
    "    double t = getTime();\n",
    "    while ((getTime() - t) < (double) howlong)\n",
    "      ; //wait...\n",
    "}\n",
    "\n",
    "int main(int argc, char *argv[])\n",
    "{\n",
    "    char *str = argv[1]; //string we passed\n",
    "\n",
    "    while (1) {\n",
    "      printf(\"%s\\n\", str);\n",
    "      wait(5);\n",
    "    }\n",
    "    return 0;\n",
    "}\n",
    "```"
   ]
  }
 ],
 "metadata": {
  "language_info": {
   "name": "python"
  }
 },
 "nbformat": 4,
 "nbformat_minor": 2
}
